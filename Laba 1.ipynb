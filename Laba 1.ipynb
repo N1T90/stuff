{
 "cells": [
  {
   "cell_type": "markdown",
   "metadata": {},
   "source": [
    "    # Лабораторная работа 1. Базовый синтаксис языка Python 3."
   ]
  },
  {
   "cell_type": "markdown",
   "metadata": {},
   "source": [
    "# Справочная информация:"
   ]
  },
  {
   "cell_type": "markdown",
   "metadata": {},
   "source": [
    "# 1. Типы данных"
   ]
  },
  {
   "cell_type": "markdown",
   "metadata": {},
   "source": [
    "Основными типами данных в любом языке программирования являются:\n",
    "\n",
    "целые числа, вещественные числа, строки (символы), логические переменные (True (истина) или False (ложь)).\n",
    "\n",
    "Они могут быть записаны следующим образом"
   ]
  },
  {
   "cell_type": "code",
   "execution_count": 1,
   "metadata": {},
   "outputs": [
    {
     "data": {
      "text/plain": "(1, 1.0, '1', False)"
     },
     "execution_count": 1,
     "metadata": {},
     "output_type": "execute_result"
    }
   ],
   "source": [
    "1, 1.0, '1', 1>2"
   ]
  },
  {
   "cell_type": "markdown",
   "metadata": {},
   "source": [
    "Функцией type возвращает тип аргумента: "
   ]
  },
  {
   "cell_type": "code",
   "execution_count": 2,
   "metadata": {},
   "outputs": [
    {
     "data": {
      "text/plain": [
       "(int, float, str, bool)"
      ]
     },
     "execution_count": 2,
     "metadata": {},
     "output_type": "execute_result"
    }
   ],
   "source": [
    "type(1), type(1.0), type('1'), type(1<2)"
   ]
  },
  {
   "cell_type": "markdown",
   "metadata": {},
   "source": [
    "# 1.2 Операции с числами: $A+B$, $A-B$, $A*B$, $A/B$, $A^B$"
   ]
  },
  {
   "cell_type": "code",
   "execution_count": 3,
   "metadata": {},
   "outputs": [
    {
     "name": "stdout",
     "output_type": "stream",
     "text": [
      " A + B =  3\n",
      " A - B =  -1\n",
      " A * B =  2\n",
      " A / B =  0.5\n",
      " A ^ B =  1\n"
     ]
    }
   ],
   "source": [
    "# комментарий: с целыми числами\n",
    "A=1 \n",
    "B=2\n",
    "print (' A + B = ',A+B) # сумма\n",
    "print (' A - B = ',A-B) # разность;\n",
    "print (' A * B = ',A*B) # произведение;\n",
    "print (' A / B = ',A/B) # частное;\n",
    "print (' A ^ B = ',A**B) # возведение в степень."
   ]
  },
  {
   "cell_type": "code",
   "execution_count": 4,
   "metadata": {},
   "outputs": [
    {
     "name": "stdout",
     "output_type": "stream",
     "text": [
      " A + B  =  3.0\n",
      " A - B  =  -1.0\n",
      " A * B  =  2.0\n",
      " A / B  =  0.5\n",
      " A % B  =  1.0\n",
      " A // B =  0.0\n",
      " A ^ B  =  1.0\n"
     ]
    }
   ],
   "source": [
    "# комментарий: с вещественными числами\n",
    "A=1.0 \n",
    "B=2.0\n",
    "print (' A + B  = ',A+B)  # сумма\n",
    "print (' A - B  = ',A-B)  # разность;\n",
    "print (' A * B  = ',A*B)  # произведение;\n",
    "print (' A / B  = ',A/B)  # частное;\n",
    "print (' A % B  = ',A%B)  #  остаток от деления;\n",
    "print (' A // B = ',A//B) # деление без остатка;\n",
    "print (' A ^ B  = ',A**B) # возведение в степень."
   ]
  },
  {
   "cell_type": "code",
   "execution_count": 5,
   "metadata": {},
   "outputs": [
    {
     "name": "stdout",
     "output_type": "stream",
     "text": [
      " A / B =  0.5 возвращаемый тип -  <class 'float'>\n",
      " A / B =  0 возвращаемый тип -  <class 'int'>\n"
     ]
    }
   ],
   "source": [
    "# комментарий: ещё о целых числах, без автоматического переопределения типа было бы так\n",
    "A=1\n",
    "B=2\n",
    "print (' A / B = ',A/B, 'возвращаемый тип - ', type(A/B)) # автоматическое переопределение;\n",
    "print (' A / B = ',(int)(A/B), 'возвращаемый тип - ', type((int)(A/B))) # без автоматического переопределения;"
   ]
  },
  {
   "cell_type": "markdown",
   "metadata": {},
   "source": [
    "# 1.2 Операции над строками"
   ]
  },
  {
   "cell_type": "code",
   "execution_count": 6,
   "metadata": {},
   "outputs": [
    {
     "name": "stdout",
     "output_type": "stream",
     "text": [
      " Ast + Bst =   я люблю информатику \n",
      "(Ast + Bst) * n =   я люблю информатику  я люблю информатику  я люблю информатику \n"
     ]
    }
   ],
   "source": [
    "Ast=' я люблю ' \n",
    "Bst='информатику '\n",
    "n=3\n",
    "print (' Ast + Bst = ',Ast+Bst)  # конкатенация \n",
    "print ('(Ast + Bst) * n = ',(Ast+Bst)*n)  # повторение n раз"
   ]
  },
  {
   "cell_type": "markdown",
   "metadata": {},
   "source": [
    "# 1.3 Логические операции"
   ]
  },
  {
   "cell_type": "code",
   "execution_count": 7,
   "metadata": {},
   "outputs": [
    {
     "name": "stdout",
     "output_type": "stream",
     "text": [
      " A >  B  ?  False\n",
      " A <  B  ?  True\n",
      " A >= B  ?  False\n",
      " A <= B  ?  True\n",
      " A == B  ?  False\n",
      " A != B ?  True\n",
      " A < B < A+B ?  True\n",
      " A < B и B < A+B  ?  True\n",
      " A < B или A > B  ?  True\n",
      "\n",
      " True False False True\n",
      "\n",
      " True \t False\n"
     ]
    }
   ],
   "source": [
    "A=1.0 \n",
    "B=2.0\n",
    "print (' A >  B  ? ',A>B)   # больше\n",
    "print (' A <  B  ? ',A<B)   # меньша\n",
    "print (' A >= B  ? ',A>=B)  # больше или равно\n",
    "print (' A <= B  ? ',A<=B)  # меньше или равно\n",
    "print (' A == B  ? ',A==B)  # равно\n",
    "print (' A != B ? ',A!=B)   # не равно\n",
    "print (' A < B < A+B ? ',A<B<A+B) # из интервала\n",
    "print (' A < B и B < A+B  ? ',A<B and B<A+B) # и (*)\n",
    "print (' A < B или A > B  ? ',A<B or A>B) # или (+)\n",
    "\n",
    "print ('\\n',A<B , A>B, A<B * A>B, A<B + A>B)  # \\n - знак перехода на строку\n",
    "\n",
    "print ('\\n',bool(1), '\\t', bool(0))  # \\t - знак табуляции"
   ]
  },
  {
   "cell_type": "markdown",
   "metadata": {},
   "source": [
    "# 2 Основные инструкции"
   ]
  },
  {
   "cell_type": "markdown",
   "metadata": {},
   "source": [
    "# 2.1 Операции ввода/вывода"
   ]
  },
  {
   "cell_type": "markdown",
   "metadata": {
    "collapsed": true
   },
   "source": [
    "Форматный вывод (это красиво): %ШиринаПоля.ТочностьТип\n",
    "\n",
    "% - указатель на вставку, тип: i - int, f - float, s - str, e - \"научное\" представление, g - \"компактное\" представление десятичного числа\n",
    "\n",
    "По умолчанию производится выравнивание по правому краю, для выравневания по левому нужно писать %- вместо %.\n",
    "\n",
    "(Кроме того, существует метод str.format() для форматного вывода строк.)"
   ]
  },
  {
   "cell_type": "code",
   "execution_count": 8,
   "metadata": {},
   "outputs": [
    {
     "name": "stdout",
     "output_type": "stream",
     "text": [
      " A / B = 0.5000, возвращаемый тип - <class 'float'> \n",
      " A / B = 0     , возвращаемый тип - <class 'int'> \n"
     ]
    }
   ],
   "source": [
    "A=1 \n",
    "B=2\n",
    "print(\" A / B = %6.4f, возвращаемый тип - %s \" % (A/B, type(A/B)))\n",
    "print(\" A / B = %-6i, возвращаемый тип - %s \" % ((int)(A/B), type((int)(A/B))))"
   ]
  },
  {
   "cell_type": "markdown",
   "metadata": {},
   "source": [
    "В интерактивной сессии (или в программе, запущенной с командной строки) можно попросить пользователя что-нибудь ввести. Аргумент функции input - это приглашение для ввода (prompt). Можно использовать просто input(), тогда приглашения не будет. Но это неудобно, т.к. в этом случае трудно заметить, что программа чего-то ждёт."
   ]
  },
  {
   "cell_type": "code",
   "execution_count": 9,
   "metadata": {},
   "outputs": [
    {
     "name": "stdout",
     "output_type": "stream",
     "text": [
      "s =  1 <class 'str'>\n",
      "sf =  1.0 <class 'float'>\n"
     ]
    }
   ],
   "source": [
    "s=input('Введите число ')\n",
    "print('s = ', s, type(s))\n",
    "sf=float(s)\n",
    "print('sf = ', sf, type(sf))"
   ]
  },
  {
   "cell_type": "markdown",
   "metadata": {},
   "source": [
    "Питон - интерпретатор, поэтому он может во время выполнения программы интерпретировать строки как куски исходного текста на языке питон. Так, функция eval интерпретирует строку как выражение и вычисляет его (в текущем контексте - подставляя текущие значения переменных)."
   ]
  },
  {
   "cell_type": "code",
   "execution_count": 10,
   "metadata": {},
   "outputs": [
    {
     "name": "stdout",
     "output_type": "stream",
     "text": [
      "s =  1 <class 'str'>\n",
      "1 =  1\n"
     ]
    }
   ],
   "source": [
    "s=input('Введите операцию с переменной sf')\n",
    "print('s = ', s, type(s))\n",
    "print(s + ' = ', eval(s))"
   ]
  },
  {
   "cell_type": "markdown",
   "metadata": {},
   "source": [
    "А функция exec интерпретирует строку как оператор и выполняет его. Оператор может менять значения переменных в текущем пространстве имён."
   ]
  },
  {
   "cell_type": "code",
   "execution_count": 11,
   "metadata": {},
   "outputs": [],
   "source": [
    "s=input('Введите выражение с переменной sf ')"
   ]
  },
  {
   "cell_type": "code",
   "execution_count": 12,
   "metadata": {},
   "outputs": [
    {
     "data": {
      "text/plain": [
       "'1'"
      ]
     },
     "execution_count": 12,
     "metadata": {},
     "output_type": "execute_result"
    }
   ],
   "source": [
    "s"
   ]
  },
  {
   "cell_type": "code",
   "execution_count": 13,
   "metadata": {},
   "outputs": [
    {
     "ename": "NameError",
     "evalue": "name 'x' is not defined",
     "output_type": "error",
     "traceback": [
      "\u001B[1;31m---------------------------------------------------------------------------\u001B[0m",
      "\u001B[1;31mNameError\u001B[0m                                 Traceback (most recent call last)",
      "\u001B[1;32m<ipython-input-13-814034df4d7e>\u001B[0m in \u001B[0;36m<module>\u001B[1;34m\u001B[0m\n\u001B[0;32m      1\u001B[0m \u001B[0mexec\u001B[0m\u001B[1;33m(\u001B[0m\u001B[0ms\u001B[0m\u001B[1;33m)\u001B[0m\u001B[1;33m\u001B[0m\u001B[1;33m\u001B[0m\u001B[0m\n\u001B[1;32m----> 2\u001B[1;33m \u001B[0mprint\u001B[0m\u001B[1;33m(\u001B[0m\u001B[0mx\u001B[0m\u001B[1;33m)\u001B[0m\u001B[1;33m\u001B[0m\u001B[1;33m\u001B[0m\u001B[0m\n\u001B[0m\u001B[0;32m      3\u001B[0m \u001B[1;33m\u001B[0m\u001B[0m\n",
      "\u001B[1;31mNameError\u001B[0m: name 'x' is not defined"
     ]
    }
   ],
   "source": [
    "exec(s)\n",
    "print(x)"
   ]
  },
  {
   "cell_type": "markdown",
   "metadata": {},
   "source": [
    "# 2.2 Ветвление (или условная инструкция)"
   ]
  },
  {
   "cell_type": "raw",
   "metadata": {},
   "source": [
    "Синтаксис:\n",
    "\n",
    "if Условие1:\n",
    "    Блок_инструкций_1 (выполняется если условие1 выполнено)\n",
    "elif Условие2:\n",
    "    Блок_инструкций_2 (выполняется если условие2 выполнено)    \n",
    "else:\n",
    "    Блок_инструкций_3 (выполняется если условия не выполнены)\n",
    "   \n",
    "или болеее компатно:   \n",
    "   \n",
    "A = инструкция1(выполняется когда верно условие) if условие else инструкция2"
   ]
  },
  {
   "cell_type": "code",
   "execution_count": null,
   "metadata": {},
   "outputs": [],
   "source": [
    "# Пример\n",
    "\n",
    "a = input('Введите целое число a: ') \n",
    "b = input('Введите целое число b: ') \n",
    "\n",
    "if a < b: \n",
    "    print ('a - наименьшее из двух чисел') \n",
    "elif a == b: \n",
    "    print ('a и b равны')\n",
    "else: \n",
    "    print ('b - наименьшее из двух чисел') "
   ]
  },
  {
   "cell_type": "code",
   "execution_count": null,
   "metadata": {},
   "outputs": [],
   "source": [
    "a = input('Введите целое число a: ') \n",
    "b = input('Введите целое число b: ') \n",
    "\n",
    "print ('a - наименьшее из двух чисел') if a<b else (print ('b - наименьшее из двух чисел') if a>b else print ('a и b равны'))"
   ]
  },
  {
   "cell_type": "markdown",
   "metadata": {},
   "source": [
    "# 2.3 Цикл"
   ]
  },
  {
   "cell_type": "raw",
   "metadata": {
    "collapsed": true
   },
   "source": [
    "Цикл while («пока») позволяет выполнить одну и ту же последовательность действий, пока проверяемое условие истинно. Условие записывается до тела цикла и проверяется до выполнения тела цикла. Как правило, цикл while используется, когда невозможно определить точное значение количества проходов исполнения цикла.\n",
    "\n",
    "Синтаксис цикла while:\n",
    "\n",
    "while Условие:\n",
    "    Блок_инструкций"
   ]
  },
  {
   "cell_type": "raw",
   "metadata": {},
   "source": [
    "Цикл for\n",
    "\n",
    "Синтаксис:\n",
    "\n",
    "for i in range(10):      #   for i in range(от, до, шаг):        \n",
    "    Блок_инструкций\n",
    "    \n",
    "эквивалентно:\n",
    "\n",
    "i = 0\n",
    "while i < 10:\n",
    "    Блок_инструкций\n",
    "    i += 1"
   ]
  },
  {
   "cell_type": "markdown",
   "metadata": {},
   "source": [
    "# 2.4 Обработка ошибок"
   ]
  },
  {
   "cell_type": "raw",
   "metadata": {},
   "source": [
    "try:\n",
    "    Блок_инструкций_1\n",
    "except:\n",
    "    Блок_инструкций_2 (выполняется в случае ошибки в Блок_инструкций_1)"
   ]
  },
  {
   "cell_type": "markdown",
   "metadata": {},
   "source": [
    "# 3 Функции"
   ]
  },
  {
   "cell_type": "markdown",
   "metadata": {
    "collapsed": true
   },
   "source": [
    "Простейшая в мире функция: не имеет параметров, ничего не делает и ничего не возвращает. Оператор pass означает \"ничего не делай\"; он используется там, где синтаксически необходим оператор, а делать ничено не нужно (после if или elif, после def и т.д.)."
   ]
  },
  {
   "cell_type": "code",
   "execution_count": null,
   "metadata": {},
   "outputs": [],
   "source": [
    "def fun0():\n",
    "    pass"
   ]
  },
  {
   "cell_type": "code",
   "execution_count": null,
   "metadata": {},
   "outputs": [],
   "source": [
    "fun0()"
   ]
  },
  {
   "cell_type": "markdown",
   "metadata": {},
   "source": [
    "# Ваша первая программа на Python"
   ]
  },
  {
   "cell_type": "markdown",
   "metadata": {},
   "source": [
    "Традиционно первой программой при начале изучения того или иного языка программирования является программа, результатом работы которой является вывод на экран или иное устройство фразы «Hello, world!»\n",
    "\n",
    "Её можно считать тестом для демонстрации работы системы перед переходом к более сложным вещам и объявлением сообществу (миру) о вашем появлении.\n",
    "\n",
    "На разных языках программирования такая программа будет занимать разное колличество строк. В нашем случае достаточно написать:\n",
    "\n",
    "print(\"Hello, world!\")\n",
    "\n",
    "Напишите здесь вашу первую программу на Python:"
   ]
  },
  {
   "cell_type": "code",
   "execution_count": 1,
   "metadata": {},
   "outputs": [
    {
     "name": "stdout",
     "output_type": "stream",
     "text": [
      "Hello, world!\n"
     ]
    }
   ],
   "source": [
    "print('Hello, world!')"
   ]
  },
  {
   "cell_type": "markdown",
   "metadata": {},
   "source": [
    "# Пример 1. \"Метание мяча\""
   ]
  },
  {
   "cell_type": "markdown",
   "metadata": {},
   "source": [
    "Рассмотрим пример иллюстрирующий математическую модель описывающий траекторию полета мяча в воздухе. Из второго закона Ньютона, предполагая отсутствие сопротивления воздуха, мы можем вывести зависимость вертикального положения мяча от времени $t$:\n",
    "\n",
    "\n",
    "$$y(t)=v_0t−\\frac{1}{2}gt^2$$\n",
    "\n",
    "\n",
    "где $v_0$ — начальная скорость, $g$ — ускорение свободного падения, значение которого положим равным 9.80665 $м/c^2$.\n",
    "\n",
    "(Обратите внимание какие красивые формулы! Текстовые ячейки Jupiter поддерживают набор формул в синтаксесе вёрстки LaTeX, наиболее популярный набор макрорасширений (или макропакет) системы компьютерной вёрстки TeX.)"
   ]
  },
  {
   "cell_type": "markdown",
   "metadata": {},
   "source": [
    "# Сценарий"
   ]
  },
  {
   "cell_type": "markdown",
   "metadata": {},
   "source": [
    "Рассмотрим сценарий на Python для вычисления по этой простой формуле"
   ]
  },
  {
   "cell_type": "code",
   "execution_count": null,
   "metadata": {},
   "outputs": [],
   "source": [
    "# Программа для вычисления положения мяча при вертикальном движении\n",
    "\n",
    "v0 = 5       # Начальная скорость\n",
    "g = 9.80665  # Ускорение свободного падения\n",
    "t = 0.6      # Время\n",
    "\n",
    "y = v0*t - 1/2*g*t**2\n",
    "\n",
    "print (y)"
   ]
  },
  {
   "cell_type": "markdown",
   "metadata": {},
   "source": [
    "# Разбор сценария или \"как он это сделал?\""
   ]
  },
  {
   "cell_type": "markdown",
   "metadata": {},
   "source": [
    "Сценарий на языке Python — это текст (или текстовый файл, в нашем случае эта программа написана и в файле ball.py, который можно запустить в редакторе Spyder), содержащий некоторые инструкции. Мы можем читать сценарий и понимать, что программа способна делать, но сам сценарий не выполняет никаких действий на компьютере, пока интерпретатор Python не прочитает текст сценария и не преобразует его в некоторые действия.\n",
    "\n",
    "Когда сценарий запущен в интерпретаторе Python, он разбирается и выполняется построчно. То где вы это читаете не является \n",
    "\n",
    "Первая строчка:"
   ]
  },
  {
   "cell_type": "code",
   "execution_count": null,
   "metadata": {},
   "outputs": [],
   "source": [
    "# Программа для вычисления положения мяча при вертикальном движении"
   ]
  },
  {
   "cell_type": "markdown",
   "metadata": {},
   "source": [
    "является комментарием, т.е. как только встречается символ #, интерпретатор Python воспринимает оставшуюся часть строки как комментарий, пропускает ее и переходит к следующей строке."
   ]
  },
  {
   "cell_type": "markdown",
   "metadata": {},
   "source": [
    "Следующая строка, интерпретируемая Pyhton:"
   ]
  },
  {
   "cell_type": "code",
   "execution_count": null,
   "metadata": {},
   "outputs": [],
   "source": [
    "v0 = 5       # Начальная скорость"
   ]
  },
  {
   "cell_type": "markdown",
   "metadata": {},
   "source": [
    "В Python выражения вида v0 = 5 известны как оператции присваивания (с оператором \"=\"). Значение правой части, в нашем случае целое число 5, становится объектом, а имя переменной слева — именованной ссылкой на этот объект. Всякий раз, когда мы запишем v0, Python заменит ее целым значением 5. Выражение v1 = v0 создает новое имя для того же целого объекта со значением 5, а не копирует объект. \n",
    "\n",
    "Следующие две строки"
   ]
  },
  {
   "cell_type": "code",
   "execution_count": null,
   "metadata": {},
   "outputs": [],
   "source": [
    "g = 9.80665  # Ускорение свободного падения\n",
    "t = 0.6      # Время"
   ]
  },
  {
   "cell_type": "markdown",
   "metadata": {},
   "source": [
    "имеют тот же смысл, что и предыдушая. Таким образом, прочитав эти строки интерпретатор Python знает три переменных v0, g, t и их значения. Эти переменные используются интерпретатором в следующей строке, реализующей некоторую формулу"
   ]
  },
  {
   "cell_type": "code",
   "execution_count": null,
   "metadata": {},
   "outputs": [],
   "source": [
    "y = v0*t - 1/2*g*t**2"
   ]
  },
  {
   "cell_type": "markdown",
   "metadata": {},
   "source": [
    "В этой строке Python интерпретирует * как оператор умножения, - — вычитания, ** — возведения в степень (как и ^). Естественно, + и \\ интерпретируются как операторы сложения и деления соответственно. В результате вычисляется значение по формуле в правой части выражения, которое присваивается переменной с именем y. \n",
    "\n",
    "Последняя строка сценария"
   ]
  },
  {
   "cell_type": "code",
   "execution_count": null,
   "metadata": {},
   "outputs": [],
   "source": [
    "print (y)"
   ]
  },
  {
   "cell_type": "markdown",
   "metadata": {},
   "source": [
    "выводит на печать значение переменной y. Таким образом при запуске сценария будет выведено число 1.234803. В тексте сценария имеются также и пустые строки, которые пропускаются интерпретатором Python. Они добавлены для лучшей читабельности кода."
   ]
  },
  {
   "cell_type": "markdown",
   "metadata": {},
   "source": [
    "# Упражнение 1. Сообщения об ошибках"
   ]
  },
  {
   "cell_type": "markdown",
   "metadata": {},
   "source": [
    "Давайте сломаем работающую программу!!!\n",
    "\n",
    "\n",
    "Предлагается ввести ошибки в сценарий. Для каждой введенной ошибки запустите сценарий. Напишите комментарий в тексте программы о том, как Python реагировал на соответствующую ошибку. После каждой ошибки поправьте сценарий так, чтобы он работал и переходите к следующей."
   ]
  },
  {
   "cell_type": "markdown",
   "metadata": {},
   "source": [
    "1. Вставьте слово Привет в пустой строке перед определением переменной v0.\n",
    "\n",
    "2. Удалите знак # перед комментарием Начальная скорость\n",
    "\n",
    "3. Удалите знак = в задании переменной v0\n",
    "\n",
    "4. Замените слово print на pint\n",
    "\n",
    "5. Замените строку print y на print x\n",
    "\n",
    "6. Замените выражение g = 9.80665 и t = 0.1 на g: int = 9.80665 и t: int = 0.1, а потом на g = int(9.80665) и t = int(0.1)\n"
   ]
  },
  {
   "cell_type": "markdown",
   "metadata": {},
   "source": [
    "Проверьте Python на прочность:"
   ]
  },
  {
   "cell_type": "code",
   "execution_count": 15,
   "metadata": {},
   "outputs": [
    {
     "name": "stdout",
     "output_type": "stream",
     "text": [
      "1.234803\n"
     ]
    }
   ],
   "source": [
    "# Программа для вычисления положения мяча при вертикальном движении\n",
    "\n",
    "v0 = 5       # Начальная скорость (м/с)\n",
    "g = 9.80665  # Ускорение свободного падения (м/с^2)\n",
    "t = 0.6      # Время (с)\n",
    "\n",
    "y = v0*t - 1/2*g*t**2 # (м)\n",
    "\n",
    "print (y)\n",
    "\n",
    "del v0, g, t, y"
   ]
  },
  {
   "cell_type": "markdown",
   "metadata": {},
   "source": [
    "# Упражнение 2. Форматный вывод результата"
   ]
  },
  {
   "cell_type": "raw",
   "metadata": {},
   "source": [
    "Реализовать в программе форматный вывод в следующем виде (с учетом выравнивания столбцов):\n",
    "\n",
    "Исходный данные: \n",
    "Начальная скорость            (число с 5 значащами числами в научном формате) $м/с$\n",
    "Ускорение свободного падения  (число с 5 значащами числами в научном формате) $м/с^2$\n",
    "Время                         (число с 5 значащами числами в научном формате) $c$\n",
    "\n",
    "Выходные данные:             \n",
    "Текущая высота положения мяча (число с 5 значащами числами в научном формате) $м$"
   ]
  },
  {
   "cell_type": "code",
   "execution_count": 14,
   "metadata": {},
   "outputs": [
    {
     "name": "stdout",
     "output_type": "stream",
     "text": [
      "Initial velocity     5.0000e+00 m/s  \n",
      "Acceleration         9.8066e+00 m/s^2\n",
      "Time                 6.0000e-01 s    \n",
      "\n",
      "Current height       1.2348e+00 m    \n"
     ]
    }
   ],
   "source": [
    "v0 = 5\n",
    "g = 9.80665\n",
    "t = 0.6\n",
    "y = v0*t - 1/2*g*t**2\n",
    "print(\"%-20s %-6.4e %-5s\"%('Initial velocity', v0, 'm/s'))\n",
    "print(\"%-20s %-6.4e %-5s\"%('Acceleration', g, 'm/s^2'))\n",
    "print(\"%-20s %-6.4e %-5s\"%('Time', t, 's'))\n",
    "print()\n",
    "print(\"%-20s %-6.4e %-5s\"%('Current height', y, 'm'))\n"
   ]
  },
  {
   "cell_type": "markdown",
   "metadata": {},
   "source": [
    "# Упражнение 3. Интерактивное общение с пользователем"
   ]
  },
  {
   "cell_type": "markdown",
   "metadata": {},
   "source": [
    "Реализовать в программе запрос исходных данных (хотя бы одной) с помощью интерактивной сессии функцией input()."
   ]
  },
  {
   "cell_type": "code",
   "execution_count": 17,
   "metadata": {},
   "outputs": [
    {
     "name": "stdout",
     "output_type": "stream",
     "text": [
      "Initial velocity     1.0000e+01 m/s  \n",
      "Acceleration         9.8066e+00 m/s^2\n",
      "Time                 3.0000e+00 s    \n",
      "\n",
      "Current height       -1.4130e+01 m    \n"
     ]
    }
   ],
   "source": [
    "v0 = float(input('Enter velocity'))\n",
    "g = 9.80665\n",
    "t = float(input('Enter time'))\n",
    "y = v0*t - 1/2*g*t**2\n",
    "print(\"%-20s %-6.4e %-5s\"%('Initial velocity', v0, 'm/s'))\n",
    "print(\"%-20s %-6.4e %-5s\"%('Acceleration', g, 'm/s^2'))\n",
    "print(\"%-20s %-6.4e %-5s\"%('Time', t, 's'))\n",
    "print()\n",
    "print(\"%-20s %-6.4e %-5s\"%('Current height', y, 'm'))"
   ]
  },
  {
   "cell_type": "markdown",
   "metadata": {},
   "source": [
    "# Упражнение 4. Проверка корректности исходных данных"
   ]
  },
  {
   "cell_type": "markdown",
   "metadata": {},
   "source": [
    "Заметим, что в рассматриваемой задаче ось $y$ выбрана так, что мячик в начальный момент времени ($t = 0$) находится в точке с координатой $y = 0$. Чтобы посмотреть сколько времени займет у мячика вернуться в эту же координату ($y = 0$), надо рассмотреть следующее вырожение:\n",
    "\n",
    "$$v_0t−\\frac{1}{2}gt^2 = t \\left( v_0t−\\frac{1}{2}gt \\right) = 0$$\n",
    "\n",
    "Последнее возможно только если $$t = 0$$ или $$t = \\frac{2v_0}{g}.$$\n",
    "\n",
    "Таким образом возможное время полета мяча ограничено интервалом\n",
    "\n",
    "$$0 \\leqslant t \\leqslant \\frac{2v_0}{g}.$$"
   ]
  },
  {
   "cell_type": "markdown",
   "metadata": {},
   "source": [
    "Добавить в программу проверку корректности вводимых пользователем переменных, исходя из условий: начальная скорость и ускорение свободного падения не отрицальны, диапазон возможного времени определяется полученным выше условием."
   ]
  },
  {
   "cell_type": "code",
   "execution_count": 22,
   "metadata": {},
   "outputs": [
    {
     "name": "stdout",
     "output_type": "stream",
     "text": [
      "Input time is incorrect\n"
     ]
    }
   ],
   "source": [
    "v0 = float(input('Enter velocity'))\n",
    "g = 9.80665\n",
    "t = float(input('Enter time'))\n",
    "y = v0*t - 1/2*g*t**2\n",
    "if t>=0 and t<=2*v0/g:\n",
    "    print(\"%-20s %-6.4e %-5s\"%('Initial velocity', v0, 'm/s'))\n",
    "    print(\"%-20s %-6.4e %-5s\"%('Acceleration', g, 'm/s^2'))\n",
    "    print(\"%-20s %-6.4e %-5s\"%('Time', t, 's'))\n",
    "    print()\n",
    "    print(\"%-20s %-6.4e %-5s\"%('Current height', y, 'm'))\n",
    "else:\n",
    "    print('Input time is incorrect')"
   ]
  },
  {
   "cell_type": "markdown",
   "metadata": {},
   "source": [
    "# Домашнее задание (базовое):"
   ]
  },
  {
   "cell_type": "markdown",
   "metadata": {},
   "source": [
    "# Задание 1. Обновление переменных в программной оболочке Python"
   ]
  },
  {
   "cell_type": "markdown",
   "metadata": {},
   "source": [
    "Написать программу реализующую следующие действия:\n",
    "\n",
    "1. Инициализировать переменную x значением 2\n",
    "2. Прибавить 3 к x и присвоить это значение x\n",
    "3. Вычислить (x+1)/2 и присвоить это значение x\n",
    "4. Вычислить x+1/2 и присвоить это значение x \n",
    "5. Присвоить x значение значение выражения x<5 \n",
    "6. Изменить тип x в символьный и присвоить результат переменной x\n",
    "\n",
    "После каждой операции выводить значение переменной x и её тип."
   ]
  },
  {
   "cell_type": "code",
   "execution_count": 27,
   "metadata": {},
   "outputs": [
    {
     "name": "stdout",
     "output_type": "stream",
     "text": [
      "x =  2 <class 'int'>\n",
      "x =  5 <class 'int'>\n",
      "x =  3.0 <class 'float'>\n",
      "x =  True <class 'bool'>\n",
      "x =  True <class 'str'>\n"
     ]
    }
   ],
   "source": [
    "x = 2\n",
    "print('x = ',x, type(x))\n",
    "x = x + 3\n",
    "print('x = ',x, type(x))\n",
    "x = (x+1)/2\n",
    "print('x = ',x, type(x))\n",
    "x = x<5\n",
    "print('x = ',x, type(x))\n",
    "x = str(x)\n",
    "print('x = ',x, type(x))\n",
    "\n"
   ]
  },
  {
   "cell_type": "markdown",
   "metadata": {},
   "source": [
    "# Задание 2. Среднее значение целых чисел"
   ]
  },
  {
   "cell_type": "markdown",
   "metadata": {},
   "source": [
    "Написать программу (сценарий), сохраняющую сумму 1+2+3+4+5 в одну переменную, затем создающую другую переменную, содержащую среднее значение этих пяти чисел. Вывести фразу \"Среднее значение этих 5 чисел равно\" и результат работы с точностью до 5 знака после точки (т.е. до 1/100000)."
   ]
  },
  {
   "cell_type": "code",
   "execution_count": 33,
   "metadata": {},
   "outputs": [
    {
     "name": "stdout",
     "output_type": "stream",
     "text": [
      "Average value of these values equals 3.00000\n"
     ]
    }
   ],
   "source": [
    "sum = 1+2+3+4+5\n",
    "s=sum/5\n",
    "print(\"Average value of these values equals %.5f\"%(s))"
   ]
  },
  {
   "cell_type": "markdown",
   "metadata": {},
   "source": [
    "# Задание 3. Интерактивное вычисление среднего"
   ]
  },
  {
   "cell_type": "markdown",
   "metadata": {},
   "source": [
    "Добавьте в программу из предыдущего задания запрос на добавление ещё однонго числа к подсчёту среднего с помощью запуска интерактивной сессии функцией input(). После введения каждого нового числа пересчитывать и выводить резёльтата в формате: \"Среднее значение этих (число чисел) чисел равно\" и результат работы с точностью до 5 знака после точки (т.е. до 1/100000). Интерактивная сессия заканчивается после введения пользователем 0."
   ]
  },
  {
   "cell_type": "code",
   "execution_count": 36,
   "metadata": {},
   "outputs": [
    {
     "name": "stdout",
     "output_type": "stream",
     "text": [
      "Average value of these  1 values equals 1.00000\n",
      "Average value of these  2 values equals 1.50000\n",
      "Average value of these  3 values equals 2.00000\n",
      "Average value of these  4 values equals 2.50000\n",
      "Average value of these  5 values equals 3.00000\n"
     ]
    }
   ],
   "source": [
    "sum = 0\n",
    "count = 0\n",
    "flag = True\n",
    "while flag:\n",
    "    x=int(input())\n",
    "    if x!=0:\n",
    "        count+=1\n",
    "        sum = sum + x\n",
    "        print(\"Average value of these %2i values equals %.5f\"%(count,sum/count))\n",
    "    else:\n",
    "        break"
   ]
  },
  {
   "cell_type": "markdown",
   "metadata": {},
   "source": [
    "# Домашнее задание (дополнительное):"
   ]
  },
  {
   "cell_type": "markdown",
   "metadata": {},
   "source": [
    "# Задание. \"О чём думает кот?\""
   ]
  },
  {
   "cell_type": "code",
   "execution_count": 4,
   "metadata": {},
   "outputs": [
    {
     "name": "stdout",
     "output_type": "stream",
     "text": [
      "Case 1\n",
      "Max length = 2.51 m\n",
      "Max height = 0.53 m\n",
      "\n",
      "Case 2\n",
      "Angle = 45 degrees\n",
      "\n",
      "Case 3\n",
      "Angle = 90 degrees\n",
      "\n",
      "Case 4\n",
      "Angle = 75.8 degrees\n",
      "Velocity = 8.152 m/s\n",
      "\n",
      "Case 5\n"
     ]
    },
    {
     "data": {
      "text/plain": "<Figure size 432x288 with 1 Axes>",
      "image/png": "[encoded data removed]"
     },
     "metadata": {
      "needs_background": "light"
     },
     "output_type": "display_data"
    }
   ],
   "source": [
    "import math as m\n",
    "import matplotlib.pyplot as plt\n",
    "%matplotlib inline\n",
    "import numpy as np\n",
    "g = 9.80665\n",
    "print('Case 1')\n",
    "v0 = 5\n",
    "a = 40\n",
    "Lmax = v0**2 * m.sin(m.radians(2*a)) / g\n",
    "Hmax = v0**2 * m.sin(m.radians(a))**2 / (2 * g)\n",
    "print(\"Max length = %.2f m\"%Lmax)\n",
    "print(\"Max height = %.2f m\"%Hmax)\n",
    "print()\n",
    "\n",
    "print('Case 2')\n",
    "Xmax = []\n",
    "k = 0\n",
    "for i in range(91):\n",
    "    Xmax.append(m.sin(m.radians(2*i)))\n",
    "    if Xmax[i] > k:\n",
    "        k = Xmax[i]\n",
    "        i1 = i\n",
    "print('Angle = %.0f degrees'%i1)\n",
    "print()\n",
    "\n",
    "print('Case 3')\n",
    "Xmax = []\n",
    "k = 0\n",
    "for i in range(91):\n",
    "    Xmax.append(m.sin(m.radians(i))**2)\n",
    "    if Xmax[i] > k:\n",
    "        k = Xmax[i]\n",
    "        i1 = i\n",
    "print('Angle = %.0f degrees'%i1)\n",
    "print()\n",
    "\n",
    "print('Case 4')\n",
    "t = 1\n",
    "x = 2\n",
    "y = 3\n",
    "tg = (y+(g*t**2)/2)/x\n",
    "a = m.degrees(m.atan(tg))\n",
    "v0 = x/(m.cos(m.radians(a))*t)\n",
    "print(\"Angle = %.1f degrees\"%(a))\n",
    "print(\"Velocity = %.3f m/s\"%(v0))\n",
    "print()\n",
    "\n",
    "print('Case 5')\n",
    "v0 = float(input('Enter velocity '))\n",
    "a = float(input('Enter angle '))\n",
    "t = float(input('Enter time '))\n",
    "t1 = np.linspace(0, t)\n",
    "x = v0 * m.cos(m.radians(a))*t1\n",
    "y = v0 * m.sin(m.radians(a))*t1 - g*t1**2/2\n",
    "plt.plot(x, y)\n",
    "plt.grid()\n",
    "plt.show()\n",
    "\n",
    "del g, v0, a, t, x, y, t1, tg, Lmax, Hmax, Xmax, k"
   ]
  },
  {
   "cell_type": "markdown",
   "metadata": {},
   "source": [
    "Рассмотрим пример иллюстрирующий математическую модель описывающий траекторию кошачьего прыжка. Из второго закона Ньютона, предполагая отсутствие сопротивления воздуха, мы можем вывести зависимость вертикального (y) и горизонтального (x) положения котика от времени $t$:\n",
    "\n",
    "$$x(t)=v_0cos(\\alpha)t$$\n",
    "$$y(t)=v_0sin(\\alpha)t−\\frac{1}{2}gt^2$$\n",
    "\n",
    "где $v_0$ — начальная скорость, $g$ — ускорение свободного падения, значение которого положим равным 9.80665 $м/c^2$, $tg(\\alpha) = y/x$."
   ]
  },
  {
   "cell_type": "markdown",
   "metadata": {},
   "source": [
    "Напишите программу которая сможет помочь котику понять следующие вещи:\n",
    "\n",
    "\n",
    "1) как далеко и высоко он сможет прыгнуть при начальной скорости 5 м/с и направлении пражка $\\alpha = 40^{\\circ}$;\n",
    "\n",
    "2) каким должен быть начальный угол для максимальной дальности прыжка;\n",
    "\n",
    "3) каким должен быть начальный угол для максимальной высоты прыжка;\n",
    "\n",
    "4) какимо должны быть угол и скорость для попадания в точку с координатами (2,3) м через 1 с;\n",
    "\n",
    "5) нарисуйте траекторию прыжка с помощью библиотеки matplotlib.\n"
   ]
  },
  {
   "cell_type": "markdown",
   "metadata": {},
   "source": [
    "# Задание. \"Число и цифра\""
   ]
  },
  {
   "cell_type": "markdown",
   "metadata": {},
   "source": [
    "Запросите у пользователя целое число и сложите цифры этого числа. Повторяйте последнее действие столоко раз сколько сможете и выводите каждый раз полученную сумму."
   ]
  },
  {
   "cell_type": "code",
   "execution_count": 3,
   "metadata": {},
   "outputs": [
    {
     "name": "stdout",
     "output_type": "stream",
     "text": [
      "Sum =  5\n",
      "Sum =  9\n",
      "Sum =  12\n",
      "Sum =  14\n",
      "Sum =  15\n"
     ]
    }
   ],
   "source": [
    "x = int(input('Enter number '))\n",
    "sum=0\n",
    "while x!=0:\n",
    "    sum += x%10\n",
    "    x//=10\n",
    "    print(\"Sum = \", sum)\n"
   ]
  },
  {
   "cell_type": "markdown",
   "metadata": {},
   "source": [
    "# Задание. \"Максимум и минимум\""
   ]
  },
  {
   "cell_type": "markdown",
   "metadata": {},
   "source": [
    "Запрашивайте у пользователя числа, определяйте максимальное и минимальной из всех полученных чисел и сообщайте их ему."
   ]
  },
  {
   "cell_type": "code",
   "execution_count": 1,
   "metadata": {},
   "outputs": [
    {
     "name": "stdout",
     "output_type": "stream",
     "text": [
      "Max value =  1\n",
      "Min value =  1\n",
      "\n",
      "Max value =  1\n",
      "Min value =  0\n",
      "\n"
     ]
    }
   ],
   "source": [
    "x = []\n",
    "while x.count(0)==0:# Программа работает, пока не введен 0\n",
    "    x.append(int(input('Enter number ')))\n",
    "    print(\"Max value = \", max(x))\n",
    "    print(\"Min value = \", min(x))\n",
    "    print()\n",
    "\n"
   ]
  },
  {
   "cell_type": "code",
   "execution_count": null,
   "metadata": {},
   "outputs": [],
   "source": []
  }
 ],
 "metadata": {
  "kernelspec": {
   "display_name": "Python 3",
   "language": "python",
   "name": "python3"
  },
  "language_info": {
   "codemirror_mode": {
    "name": "ipython",
    "version": 3
   },
   "file_extension": ".py",
   "mimetype": "text/x-python",
   "name": "python",
   "nbconvert_exporter": "python",
   "pygments_lexer": "ipython3",
   "version": "3.8.6"
  }
 },
 "nbformat": 4,
 "nbformat_minor": 2
}